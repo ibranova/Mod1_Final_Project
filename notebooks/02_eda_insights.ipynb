{
 "cells": [
  {
   "cell_type": "markdown",
   "id": "04e03148",
   "metadata": {},
   "source": [
    "## Load the data"
   ]
  },
  {
   "cell_type": "code",
   "execution_count": null,
   "id": "f292397a",
   "metadata": {
    "vscode": {
     "languageId": "plaintext"
    }
   },
   "outputs": [],
   "source": []
  }
 ],
 "metadata": {
  "language_info": {
   "name": "python"
  }
 },
 "nbformat": 4,
 "nbformat_minor": 5
}
