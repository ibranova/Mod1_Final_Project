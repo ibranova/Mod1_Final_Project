{
 "cells": [
  {
   "cell_type": "markdown",
   "id": "37977beb",
   "metadata": {},
   "source": [
    "## Load data"
   ]
  },
  {
   "cell_type": "code",
   "execution_count": 1022,
   "id": "7f6ead6c",
   "metadata": {},
   "outputs": [],
   "source": [
    "import pandas as pd \n",
    "import numpy as np  \n",
    "import seaborn as sns   \n",
    "import matplotlib.pyplot as plt "
   ]
  },
  {
   "cell_type": "code",
   "execution_count": 1023,
   "id": "a815850f",
   "metadata": {},
   "outputs": [
    {
     "name": "stderr",
     "output_type": "stream",
     "text": [
      "/var/folders/h0/75t8pd8571n2l1zzjcyqp7kh0000gp/T/ipykernel_79081/664495163.py:1: FutureWarning: The argument 'date_parser' is deprecated and will be removed in a future version. Please use 'date_format' instead, or read your data in as 'object' dtype and then call 'to_datetime'.\n",
      "  sales_df = pd.read_csv(\"/Users/Marcy_Student/Desktop/Marcy_Projects/Mod1_Final_Project/data/raw/cafe_sales.csv\", date_parser=[\"Transaction Date\"],)\n"
     ]
    }
   ],
   "source": [
    "sales_df = pd.read_csv(\"/Users/Marcy_Student/Desktop/Marcy_Projects/Mod1_Final_Project/data/raw/cafe_sales.csv\", date_parser=[\"Transaction Date\"],)"
   ]
  },
  {
   "cell_type": "markdown",
   "id": "8f5c84c4",
   "metadata": {},
   "source": [
    "## Getting a Quick info of the dataset"
   ]
  },
  {
   "cell_type": "code",
   "execution_count": 1024,
   "id": "fc37f4b8",
   "metadata": {},
   "outputs": [
    {
     "name": "stdout",
     "output_type": "stream",
     "text": [
      "<class 'pandas.core.frame.DataFrame'>\n",
      "RangeIndex: 10000 entries, 0 to 9999\n",
      "Data columns (total 8 columns):\n",
      " #   Column            Non-Null Count  Dtype \n",
      "---  ------            --------------  ----- \n",
      " 0   Transaction ID    10000 non-null  object\n",
      " 1   Item              9667 non-null   object\n",
      " 2   Quantity          9862 non-null   object\n",
      " 3   Price Per Unit    9821 non-null   object\n",
      " 4   Total Spent       9827 non-null   object\n",
      " 5   Payment Method    7421 non-null   object\n",
      " 6   Location          6735 non-null   object\n",
      " 7   Transaction Date  9841 non-null   object\n",
      "dtypes: object(8)\n",
      "memory usage: 625.1+ KB\n"
     ]
    }
   ],
   "source": [
    "sales_df.info()"
   ]
  },
  {
   "cell_type": "code",
   "execution_count": 1025,
   "id": "afa2cda7",
   "metadata": {},
   "outputs": [
    {
     "data": {
      "text/html": [
       "<div>\n",
       "<style scoped>\n",
       "    .dataframe tbody tr th:only-of-type {\n",
       "        vertical-align: middle;\n",
       "    }\n",
       "\n",
       "    .dataframe tbody tr th {\n",
       "        vertical-align: top;\n",
       "    }\n",
       "\n",
       "    .dataframe thead th {\n",
       "        text-align: right;\n",
       "    }\n",
       "</style>\n",
       "<table border=\"1\" class=\"dataframe\">\n",
       "  <thead>\n",
       "    <tr style=\"text-align: right;\">\n",
       "      <th></th>\n",
       "      <th>Transaction ID</th>\n",
       "      <th>Item</th>\n",
       "      <th>Quantity</th>\n",
       "      <th>Price Per Unit</th>\n",
       "      <th>Total Spent</th>\n",
       "      <th>Payment Method</th>\n",
       "      <th>Location</th>\n",
       "      <th>Transaction Date</th>\n",
       "    </tr>\n",
       "  </thead>\n",
       "  <tbody>\n",
       "    <tr>\n",
       "      <th>0</th>\n",
       "      <td>TXN_1961373</td>\n",
       "      <td>Coffee</td>\n",
       "      <td>2</td>\n",
       "      <td>2.0</td>\n",
       "      <td>4.0</td>\n",
       "      <td>Credit Card</td>\n",
       "      <td>Takeaway</td>\n",
       "      <td>2023-09-08</td>\n",
       "    </tr>\n",
       "    <tr>\n",
       "      <th>1</th>\n",
       "      <td>TXN_4977031</td>\n",
       "      <td>Cake</td>\n",
       "      <td>4</td>\n",
       "      <td>3.0</td>\n",
       "      <td>12.0</td>\n",
       "      <td>Cash</td>\n",
       "      <td>In-store</td>\n",
       "      <td>2023-05-16</td>\n",
       "    </tr>\n",
       "    <tr>\n",
       "      <th>2</th>\n",
       "      <td>TXN_4271903</td>\n",
       "      <td>Cookie</td>\n",
       "      <td>4</td>\n",
       "      <td>1.0</td>\n",
       "      <td>ERROR</td>\n",
       "      <td>Credit Card</td>\n",
       "      <td>In-store</td>\n",
       "      <td>2023-07-19</td>\n",
       "    </tr>\n",
       "    <tr>\n",
       "      <th>3</th>\n",
       "      <td>TXN_7034554</td>\n",
       "      <td>Salad</td>\n",
       "      <td>2</td>\n",
       "      <td>5.0</td>\n",
       "      <td>10.0</td>\n",
       "      <td>UNKNOWN</td>\n",
       "      <td>UNKNOWN</td>\n",
       "      <td>2023-04-27</td>\n",
       "    </tr>\n",
       "    <tr>\n",
       "      <th>4</th>\n",
       "      <td>TXN_3160411</td>\n",
       "      <td>Coffee</td>\n",
       "      <td>2</td>\n",
       "      <td>2.0</td>\n",
       "      <td>4.0</td>\n",
       "      <td>Digital Wallet</td>\n",
       "      <td>In-store</td>\n",
       "      <td>2023-06-11</td>\n",
       "    </tr>\n",
       "    <tr>\n",
       "      <th>5</th>\n",
       "      <td>TXN_2602893</td>\n",
       "      <td>Smoothie</td>\n",
       "      <td>5</td>\n",
       "      <td>4.0</td>\n",
       "      <td>20.0</td>\n",
       "      <td>Credit Card</td>\n",
       "      <td>NaN</td>\n",
       "      <td>2023-03-31</td>\n",
       "    </tr>\n",
       "    <tr>\n",
       "      <th>6</th>\n",
       "      <td>TXN_4433211</td>\n",
       "      <td>UNKNOWN</td>\n",
       "      <td>3</td>\n",
       "      <td>3.0</td>\n",
       "      <td>9.0</td>\n",
       "      <td>ERROR</td>\n",
       "      <td>Takeaway</td>\n",
       "      <td>2023-10-06</td>\n",
       "    </tr>\n",
       "    <tr>\n",
       "      <th>7</th>\n",
       "      <td>TXN_6699534</td>\n",
       "      <td>Sandwich</td>\n",
       "      <td>4</td>\n",
       "      <td>4.0</td>\n",
       "      <td>16.0</td>\n",
       "      <td>Cash</td>\n",
       "      <td>UNKNOWN</td>\n",
       "      <td>2023-10-28</td>\n",
       "    </tr>\n",
       "    <tr>\n",
       "      <th>8</th>\n",
       "      <td>TXN_4717867</td>\n",
       "      <td>NaN</td>\n",
       "      <td>5</td>\n",
       "      <td>3.0</td>\n",
       "      <td>15.0</td>\n",
       "      <td>NaN</td>\n",
       "      <td>Takeaway</td>\n",
       "      <td>2023-07-28</td>\n",
       "    </tr>\n",
       "    <tr>\n",
       "      <th>9</th>\n",
       "      <td>TXN_2064365</td>\n",
       "      <td>Sandwich</td>\n",
       "      <td>5</td>\n",
       "      <td>4.0</td>\n",
       "      <td>20.0</td>\n",
       "      <td>NaN</td>\n",
       "      <td>In-store</td>\n",
       "      <td>2023-12-31</td>\n",
       "    </tr>\n",
       "    <tr>\n",
       "      <th>10</th>\n",
       "      <td>TXN_2548360</td>\n",
       "      <td>Salad</td>\n",
       "      <td>5</td>\n",
       "      <td>5.0</td>\n",
       "      <td>25.0</td>\n",
       "      <td>Cash</td>\n",
       "      <td>Takeaway</td>\n",
       "      <td>2023-11-07</td>\n",
       "    </tr>\n",
       "    <tr>\n",
       "      <th>11</th>\n",
       "      <td>TXN_3051279</td>\n",
       "      <td>Sandwich</td>\n",
       "      <td>2</td>\n",
       "      <td>4.0</td>\n",
       "      <td>8.0</td>\n",
       "      <td>Credit Card</td>\n",
       "      <td>Takeaway</td>\n",
       "      <td>ERROR</td>\n",
       "    </tr>\n",
       "    <tr>\n",
       "      <th>12</th>\n",
       "      <td>TXN_7619095</td>\n",
       "      <td>Sandwich</td>\n",
       "      <td>2</td>\n",
       "      <td>4.0</td>\n",
       "      <td>8.0</td>\n",
       "      <td>Cash</td>\n",
       "      <td>In-store</td>\n",
       "      <td>2023-05-03</td>\n",
       "    </tr>\n",
       "    <tr>\n",
       "      <th>13</th>\n",
       "      <td>TXN_9437049</td>\n",
       "      <td>Cookie</td>\n",
       "      <td>5</td>\n",
       "      <td>1.0</td>\n",
       "      <td>5.0</td>\n",
       "      <td>NaN</td>\n",
       "      <td>Takeaway</td>\n",
       "      <td>2023-06-01</td>\n",
       "    </tr>\n",
       "    <tr>\n",
       "      <th>14</th>\n",
       "      <td>TXN_8915701</td>\n",
       "      <td>ERROR</td>\n",
       "      <td>2</td>\n",
       "      <td>1.5</td>\n",
       "      <td>3.0</td>\n",
       "      <td>NaN</td>\n",
       "      <td>In-store</td>\n",
       "      <td>2023-03-21</td>\n",
       "    </tr>\n",
       "  </tbody>\n",
       "</table>\n",
       "</div>"
      ],
      "text/plain": [
       "   Transaction ID      Item Quantity Price Per Unit Total Spent  \\\n",
       "0     TXN_1961373    Coffee        2            2.0         4.0   \n",
       "1     TXN_4977031      Cake        4            3.0        12.0   \n",
       "2     TXN_4271903    Cookie        4            1.0       ERROR   \n",
       "3     TXN_7034554     Salad        2            5.0        10.0   \n",
       "4     TXN_3160411    Coffee        2            2.0         4.0   \n",
       "5     TXN_2602893  Smoothie        5            4.0        20.0   \n",
       "6     TXN_4433211   UNKNOWN        3            3.0         9.0   \n",
       "7     TXN_6699534  Sandwich        4            4.0        16.0   \n",
       "8     TXN_4717867       NaN        5            3.0        15.0   \n",
       "9     TXN_2064365  Sandwich        5            4.0        20.0   \n",
       "10    TXN_2548360     Salad        5            5.0        25.0   \n",
       "11    TXN_3051279  Sandwich        2            4.0         8.0   \n",
       "12    TXN_7619095  Sandwich        2            4.0         8.0   \n",
       "13    TXN_9437049    Cookie        5            1.0         5.0   \n",
       "14    TXN_8915701     ERROR        2            1.5         3.0   \n",
       "\n",
       "    Payment Method  Location Transaction Date  \n",
       "0      Credit Card  Takeaway       2023-09-08  \n",
       "1             Cash  In-store       2023-05-16  \n",
       "2      Credit Card  In-store       2023-07-19  \n",
       "3          UNKNOWN   UNKNOWN       2023-04-27  \n",
       "4   Digital Wallet  In-store       2023-06-11  \n",
       "5      Credit Card       NaN       2023-03-31  \n",
       "6            ERROR  Takeaway       2023-10-06  \n",
       "7             Cash   UNKNOWN       2023-10-28  \n",
       "8              NaN  Takeaway       2023-07-28  \n",
       "9              NaN  In-store       2023-12-31  \n",
       "10            Cash  Takeaway       2023-11-07  \n",
       "11     Credit Card  Takeaway            ERROR  \n",
       "12            Cash  In-store       2023-05-03  \n",
       "13             NaN  Takeaway       2023-06-01  \n",
       "14             NaN  In-store       2023-03-21  "
      ]
     },
     "execution_count": 1025,
     "metadata": {},
     "output_type": "execute_result"
    }
   ],
   "source": [
    "sales_df.head(15)"
   ]
  },
  {
   "cell_type": "markdown",
   "id": "792eb1fc",
   "metadata": {},
   "source": [
    "# Data Cleaning and Preparation 🧹\n",
    "1. convertion of the `Item`, `Quantity`, `Price Per Unit` columns to numeric and `Transaction Date` to Date time."
   ]
  },
  {
   "cell_type": "code",
   "execution_count": 1026,
   "id": "855050c1",
   "metadata": {},
   "outputs": [],
   "source": [
    "sales_df[\"Quantity\"] = pd.to_numeric(sales_df[\"Quantity\"], errors=\"coerce\")\n",
    "sales_df[\"Price Per Unit\"] = pd.to_numeric(sales_df[\"Price Per Unit\"], errors=\"coerce\")\n",
    "sales_df[\"Total Spent\"] = pd.to_numeric(sales_df[\"Total Spent\"], errors=\"coerce\")\n",
    "sales_df[\"Transaction Date\"] = pd.to_datetime(sales_df[\"Transaction Date\"], errors=\"coerce\")\n",
    "#sales_df.info()"
   ]
  },
  {
   "cell_type": "markdown",
   "id": "e2bb6a07",
   "metadata": {},
   "source": [
    "2. Checking for missing values inside the data frame. "
   ]
  },
  {
   "cell_type": "code",
   "execution_count": 1027,
   "id": "1245e331",
   "metadata": {},
   "outputs": [
    {
     "data": {
      "text/plain": [
       "Transaction ID         0\n",
       "Item                 333\n",
       "Quantity             479\n",
       "Price Per Unit       533\n",
       "Total Spent          502\n",
       "Payment Method      2579\n",
       "Location            3265\n",
       "Transaction Date     460\n",
       "dtype: int64"
      ]
     },
     "execution_count": 1027,
     "metadata": {},
     "output_type": "execute_result"
    }
   ],
   "source": [
    "sales_df.isna().sum()\n",
    "#we have a lot of data missing, let's try to clean it and replace it 🧹 "
   ]
  },
  {
   "cell_type": "code",
   "execution_count": 1028,
   "id": "af50e984",
   "metadata": {},
   "outputs": [
    {
     "name": "stdout",
     "output_type": "stream",
     "text": [
      "\n",
      "The unique values inside Item are: ['Coffee' 'Cake' 'Cookie' 'Salad' 'Smoothie' 'UNKNOWN' 'Sandwich' nan\n",
      " 'ERROR' 'Juice' 'Tea']\n",
      "Item\n",
      "Juice       1171\n",
      "Coffee      1165\n",
      "Salad       1148\n",
      "Cake        1139\n",
      "Sandwich    1131\n",
      "Smoothie    1096\n",
      "Cookie      1092\n",
      "Tea         1089\n",
      "UNKNOWN      344\n",
      "ERROR        292\n",
      "Name: count, dtype: int64\n",
      "\n",
      "The unique values inside Quantity are: [ 2.  4.  5.  3.  1. nan]\n",
      "Quantity\n",
      "5.0    2013\n",
      "2.0    1974\n",
      "4.0    1863\n",
      "3.0    1849\n",
      "1.0    1822\n",
      "Name: count, dtype: int64\n",
      "\n",
      "The unique values inside Price Per Unit are: [2.  3.  1.  5.  4.  1.5 nan]\n",
      "Price Per Unit\n",
      "3.0    2429\n",
      "4.0    2331\n",
      "2.0    1227\n",
      "5.0    1204\n",
      "1.0    1143\n",
      "1.5    1133\n",
      "Name: count, dtype: int64\n",
      "\n",
      "The unique values inside Total Spent are: [ 4.  12.   nan 10.  20.   9.  16.  15.  25.   8.   5.   3.   6.   2.\n",
      "  1.   7.5  4.5  1.5]\n",
      "Total Spent\n",
      "6.0     979\n",
      "12.0    939\n",
      "3.0     930\n",
      "4.0     923\n",
      "20.0    746\n",
      "15.0    734\n",
      "8.0     677\n",
      "10.0    524\n",
      "2.0     497\n",
      "9.0     479\n",
      "5.0     468\n",
      "16.0    444\n",
      "25.0    259\n",
      "7.5     237\n",
      "1.0     232\n",
      "4.5     225\n",
      "1.5     205\n",
      "Name: count, dtype: int64\n",
      "\n",
      "The unique values inside Payment Method are: ['Credit Card' 'Cash' 'UNKNOWN' 'Digital Wallet' 'ERROR' nan]\n",
      "Payment Method\n",
      "Digital Wallet    2291\n",
      "Credit Card       2273\n",
      "Cash              2258\n",
      "ERROR              306\n",
      "UNKNOWN            293\n",
      "Name: count, dtype: int64\n",
      "\n",
      "The unique values inside Location are: ['Takeaway' 'In-store' 'UNKNOWN' nan 'ERROR']\n",
      "Location\n",
      "Takeaway    3022\n",
      "In-store    3017\n",
      "ERROR        358\n",
      "UNKNOWN      338\n",
      "Name: count, dtype: int64\n",
      "\n",
      "The unique values inside Transaction Date are: <DatetimeArray>\n",
      "['2023-09-08 00:00:00', '2023-05-16 00:00:00', '2023-07-19 00:00:00',\n",
      " '2023-04-27 00:00:00', '2023-06-11 00:00:00', '2023-03-31 00:00:00',\n",
      " '2023-10-06 00:00:00', '2023-10-28 00:00:00', '2023-07-28 00:00:00',\n",
      " '2023-12-31 00:00:00',\n",
      " ...\n",
      " '2023-08-01 00:00:00', '2023-01-20 00:00:00', '2023-11-11 00:00:00',\n",
      " '2023-02-13 00:00:00', '2023-07-30 00:00:00', '2023-02-17 00:00:00',\n",
      " '2023-05-20 00:00:00', '2023-11-05 00:00:00', '2023-03-27 00:00:00',\n",
      " '2023-07-03 00:00:00']\n",
      "Length: 366, dtype: datetime64[ns]\n",
      "Transaction Date\n",
      "2023-02-06    40\n",
      "2023-06-16    40\n",
      "2023-03-13    39\n",
      "2023-07-21    39\n",
      "2023-09-21    39\n",
      "              ..\n",
      "2023-04-27    15\n",
      "2023-11-24    15\n",
      "2023-03-11    14\n",
      "2023-02-17    14\n",
      "2023-07-22    14\n",
      "Name: count, Length: 365, dtype: int64\n"
     ]
    }
   ],
   "source": [
    "#sales_df['Price Per Unit'].unique()\n",
    "sales_df_columns = ['Item', 'Quantity', 'Price Per Unit', 'Total Spent',\n",
    "       'Payment Method', 'Location', 'Transaction Date']\n",
    "for col in sales_df_columns:\n",
    "    unique_values = sales_df[col].unique()\n",
    "    print(f\"\\nThe unique values inside {col} are: {unique_values}\")\n",
    "    print(sales_df[col].value_counts())"
   ]
  },
  {
   "cell_type": "markdown",
   "id": "33e009d1",
   "metadata": {},
   "source": [
    "## Handling Missing Values\n",
    "Let's fill the missing item values using the `Price Per Unit` column. We will be using the price of the item to identify which item should be in the empty spot.\n",
    "\n",
    "However, because the prices are not all unique to each item, there are two scenarios when doing this:\n",
    "\n",
    "1. The price is unique and only has one item for that price: We directly use a mapping function to replace the NaNs.\n",
    "2. The price is not unique and has multiple items for that price: We figure out which item is more frequent and use that to fill the space.\n"
   ]
  },
  {
   "cell_type": "code",
   "execution_count": 1029,
   "id": "148d4214",
   "metadata": {},
   "outputs": [
    {
     "data": {
      "text/plain": [
       "np.int64(533)"
      ]
     },
     "execution_count": 1029,
     "metadata": {},
     "output_type": "execute_result"
    }
   ],
   "source": [
    "sales_df[\"Price Per Unit\"].isna().sum()"
   ]
  },
  {
   "cell_type": "markdown",
   "id": "4660df0c",
   "metadata": {},
   "source": [
    "- First, let's replace the 'ERROR' and 'UNKNOWN' values by NaN in the Item, Payement Method and Location. \n"
   ]
  },
  {
   "cell_type": "code",
   "execution_count": 1030,
   "id": "887a0a0a",
   "metadata": {},
   "outputs": [],
   "source": [
    "sales_col = ['Item','Payment Method','Location']\n",
    "for col in sales_col:\n",
    "   sales_df[col] = sales_df[col].replace(['ERROR', 'UNKNOWN'], np.nan)\n"
   ]
  },
  {
   "cell_type": "markdown",
   "id": "016458fd",
   "metadata": {},
   "source": [
    "- Now 'ERROR', 'UNKNOWN' in `Item`, `Payement Method`, and `Location` are replaced by NaN. \n"
   ]
  },
  {
   "cell_type": "code",
   "execution_count": 1031,
   "id": "48a8b559",
   "metadata": {},
   "outputs": [
    {
     "data": {
      "text/plain": [
       "array(['Coffee', 'Cake', 'Cookie', 'Salad', 'Smoothie', nan, 'Sandwich',\n",
       "       'Juice', 'Tea'], dtype=object)"
      ]
     },
     "execution_count": 1031,
     "metadata": {},
     "output_type": "execute_result"
    }
   ],
   "source": [
    "sales_df[\"Item\"].unique()"
   ]
  },
  {
   "cell_type": "code",
   "execution_count": null,
   "id": "c9377362",
   "metadata": {},
   "outputs": [],
   "source": [
    "# A dictionnary containing the price per unit for each item\n",
    "price_dict = {\n",
    "    'Coffee': 2.0,\n",
    "    'Tea': 1.5,\n",
    "    'Sandwich': 4.0,\n",
    "    'Salad': 5.0,\n",
    "    'Cake': 3.0,\n",
    "    'Cookie': 1.0,\n",
    "    'Smoothie': 4.0,\n",
    "    'Juice': 3.0\n",
    "}"
   ]
  },
  {
   "cell_type": "markdown",
   "id": "8bd6438b",
   "metadata": {},
   "source": [
    "We will now use this price_dict dictionary to fill the data that we can fill. Wherever the price is one of the keys in the price_dict dictionary, we will replace the NaN with the appropriate data."
   ]
  },
  {
   "cell_type": "code",
   "execution_count": 1033,
   "id": "15dedd69",
   "metadata": {},
   "outputs": [],
   "source": [
    "sales_df[\"Price Per Unit\"] = sales_df[\"Price Per Unit\"].fillna(sales_df[\"Item\"].map(price_dict))"
   ]
  },
  {
   "cell_type": "code",
   "execution_count": 1034,
   "id": "291bb688",
   "metadata": {},
   "outputs": [
    {
     "data": {
      "text/plain": [
       "np.int64(54)"
      ]
     },
     "execution_count": 1034,
     "metadata": {},
     "output_type": "execute_result"
    }
   ],
   "source": [
    "sales_df[\"Price Per Unit\"].isna().sum()\n",
    "#Now we only have 54 missing values!"
   ]
  },
  {
   "cell_type": "code",
   "execution_count": 1035,
   "id": "fed35c3f",
   "metadata": {},
   "outputs": [],
   "source": [
    "price_to_name_dict = {\n",
    "  2.0: 'Coffee',\n",
    "    1.5: 'Tea',\n",
    "    5.0: 'Salad',\n",
    "    1.0: 'Cookie',    \n",
    "}\n",
    "sales_df['Item'] = sales_df['Item'].fillna(sales_df['Price Per Unit'].map(price_to_name_dict))\n"
   ]
  },
  {
   "cell_type": "code",
   "execution_count": 1036,
   "id": "baf0dac9",
   "metadata": {},
   "outputs": [
    {
     "data": {
      "text/plain": [
       "Transaction ID         0\n",
       "Item                 501\n",
       "Quantity             479\n",
       "Price Per Unit        54\n",
       "Total Spent          502\n",
       "Payment Method      3178\n",
       "Location            3961\n",
       "Transaction Date     460\n",
       "dtype: int64"
      ]
     },
     "execution_count": 1036,
     "metadata": {},
     "output_type": "execute_result"
    }
   ],
   "source": [
    "sales_df.isna().sum()"
   ]
  },
  {
   "cell_type": "markdown",
   "id": "e3a35de6",
   "metadata": {},
   "source": [
    "### Finding the missing values in `Total Spent` using the `Price Per Unit` and `Quantity`"
   ]
  },
  {
   "cell_type": "code",
   "execution_count": 1037,
   "id": "beeebc87",
   "metadata": {},
   "outputs": [],
   "source": [
    "#Total spent using total quantity and total price per unit \n",
    "total = sales_df['Total Spent'].isna() & sales_df['Quantity'].notna() & sales_df['Price Per Unit'].notna()\n",
    "sales_df.loc[total, 'Total Spent'] = sales_df.loc[total, 'Quantity'] * sales_df.loc[total, 'Price Per Unit']"
   ]
  },
  {
   "cell_type": "code",
   "execution_count": 1038,
   "id": "f71b94fd",
   "metadata": {},
   "outputs": [],
   "source": [
    "#Quantity using total quantity and total price per unit \n",
    "Quantity = sales_df[\"Quantity\"].isna() & sales_df[\"Total Spent\"].notna() & sales_df[\"Price Per Unit\"].notna()\n",
    "sales_df.loc[Quantity, \"Quantity\"] = sales_df.loc[Quantity, \"Total Spent\"] / sales_df.loc[Quantity, \"Price Per Unit\"]"
   ]
  },
  {
   "cell_type": "code",
   "execution_count": 1039,
   "id": "09714053",
   "metadata": {},
   "outputs": [],
   "source": [
    "#Price Per unit using total quantity and total price per unit \n",
    "Price_PU = sales_df[\"Price Per Unit\"].isna() & sales_df[\"Total Spent\"].notna() & sales_df[\"Quantity\"].notna()\n",
    "sales_df.loc[Price_PU, \"Price Per Unit\"] = sales_df.loc[Price_PU, \"Total Spent\"] / sales_df.loc[Price_PU, \"Quantity\"]"
   ]
  },
  {
   "cell_type": "code",
   "execution_count": 1040,
   "id": "9a963fc4",
   "metadata": {},
   "outputs": [],
   "source": [
    "#Let's try to map again to fill the missing items. \n",
    "sales_df['Item'] = sales_df['Item'].fillna(sales_df['Price Per Unit'].map(price_to_name_dict))\n"
   ]
  },
  {
   "cell_type": "code",
   "execution_count": 1041,
   "id": "b3cc5974",
   "metadata": {},
   "outputs": [
    {
     "data": {
      "text/plain": [
       "Transaction ID         0\n",
       "Item                 480\n",
       "Quantity              23\n",
       "Price Per Unit         6\n",
       "Total Spent           23\n",
       "Payment Method      3178\n",
       "Location            3961\n",
       "Transaction Date     460\n",
       "dtype: int64"
      ]
     },
     "execution_count": 1041,
     "metadata": {},
     "output_type": "execute_result"
    }
   ],
   "source": [
    "sales_df.isna().sum()\n",
    "#sales_df.info()"
   ]
  },
  {
   "cell_type": "markdown",
   "id": "dbfecff1",
   "metadata": {},
   "source": [
    "Now all the remaining missing values in `Item`, `Quantity`, `Price Per Unit` and `Total Payement` are less than 5% of the total values, we can drop them because it they don't going to affect our analysis much\n",
    "We were not able to fill in the remaing missing values in `Item` because \"Juice\" and \"Cake\" have the same price, they both cost $3. We can't map that using the Dictionary."
   ]
  },
  {
   "cell_type": "code",
   "execution_count": 852,
   "id": "54057f69",
   "metadata": {},
   "outputs": [],
   "source": [
    "# Find the five percent threshold\n",
    "threshold = len(sales_df) * 0.05\n",
    "\n",
    "# Create a filter\n",
    "cols_to_drop = sales_df.columns[sales_df.isna().sum() <= threshold]\n",
    "\n",
    "# Drop missing values for columns below the threshold\n",
    "sales_df.dropna(subset=cols_to_drop, inplace=True)\n"
   ]
  },
  {
   "cell_type": "code",
   "execution_count": 853,
   "id": "f467a9b4",
   "metadata": {},
   "outputs": [
    {
     "data": {
      "text/plain": [
       "Transaction ID         0\n",
       "Item                   0\n",
       "Quantity               0\n",
       "Price Per Unit         0\n",
       "Total Spent            0\n",
       "Payment Method      2870\n",
       "Location            3592\n",
       "Transaction Date       0\n",
       "dtype: int64"
      ]
     },
     "execution_count": 853,
     "metadata": {},
     "output_type": "execute_result"
    }
   ],
   "source": [
    "sales_df.isna().sum()\n"
   ]
  },
  {
   "cell_type": "markdown",
   "id": "d222b7fc",
   "metadata": {},
   "source": [
    "### Checking for duplicate values "
   ]
  },
  {
   "cell_type": "code",
   "execution_count": 1042,
   "id": "01b8245e",
   "metadata": {},
   "outputs": [
    {
     "data": {
      "text/plain": [
       "np.int64(0)"
      ]
     },
     "execution_count": 1042,
     "metadata": {},
     "output_type": "execute_result"
    }
   ],
   "source": [
    "sales_df.duplicated().sum()\n",
    "#We don't have any duplicate value, that's a good news 🥳🥳🥳"
   ]
  },
  {
   "cell_type": "markdown",
   "id": "26f05299",
   "metadata": {},
   "source": [
    "### Let's create two new columns for the date"
   ]
  },
  {
   "cell_type": "code",
   "execution_count": 1043,
   "id": "5b2e5355",
   "metadata": {},
   "outputs": [],
   "source": [
    "sales_df[\"Month\"] = sales_df[\"Transaction Date\"].dt.strftime(\"%B\") #strftime extract the year from the date. \n",
    "sales_df[\"Day Of The Week\"] =  sales_df[\"Transaction Date\"].dt.day_name() # dt.date_name extract the name of the day."
   ]
  },
  {
   "cell_type": "code",
   "execution_count": 1044,
   "id": "8be6aac8",
   "metadata": {},
   "outputs": [
    {
     "data": {
      "text/html": [
       "<div>\n",
       "<style scoped>\n",
       "    .dataframe tbody tr th:only-of-type {\n",
       "        vertical-align: middle;\n",
       "    }\n",
       "\n",
       "    .dataframe tbody tr th {\n",
       "        vertical-align: top;\n",
       "    }\n",
       "\n",
       "    .dataframe thead th {\n",
       "        text-align: right;\n",
       "    }\n",
       "</style>\n",
       "<table border=\"1\" class=\"dataframe\">\n",
       "  <thead>\n",
       "    <tr style=\"text-align: right;\">\n",
       "      <th></th>\n",
       "      <th>Transaction ID</th>\n",
       "      <th>Item</th>\n",
       "      <th>Quantity</th>\n",
       "      <th>Price Per Unit</th>\n",
       "      <th>Total Spent</th>\n",
       "      <th>Payment Method</th>\n",
       "      <th>Location</th>\n",
       "      <th>Transaction Date</th>\n",
       "      <th>Month</th>\n",
       "      <th>Day Of The Week</th>\n",
       "    </tr>\n",
       "  </thead>\n",
       "  <tbody>\n",
       "    <tr>\n",
       "      <th>0</th>\n",
       "      <td>TXN_1961373</td>\n",
       "      <td>Coffee</td>\n",
       "      <td>2.0</td>\n",
       "      <td>2.0</td>\n",
       "      <td>4.0</td>\n",
       "      <td>Credit Card</td>\n",
       "      <td>Takeaway</td>\n",
       "      <td>2023-09-08</td>\n",
       "      <td>September</td>\n",
       "      <td>Friday</td>\n",
       "    </tr>\n",
       "    <tr>\n",
       "      <th>1</th>\n",
       "      <td>TXN_4977031</td>\n",
       "      <td>Cake</td>\n",
       "      <td>4.0</td>\n",
       "      <td>3.0</td>\n",
       "      <td>12.0</td>\n",
       "      <td>Cash</td>\n",
       "      <td>In-store</td>\n",
       "      <td>2023-05-16</td>\n",
       "      <td>May</td>\n",
       "      <td>Tuesday</td>\n",
       "    </tr>\n",
       "    <tr>\n",
       "      <th>2</th>\n",
       "      <td>TXN_4271903</td>\n",
       "      <td>Cookie</td>\n",
       "      <td>4.0</td>\n",
       "      <td>1.0</td>\n",
       "      <td>4.0</td>\n",
       "      <td>Credit Card</td>\n",
       "      <td>In-store</td>\n",
       "      <td>2023-07-19</td>\n",
       "      <td>July</td>\n",
       "      <td>Wednesday</td>\n",
       "    </tr>\n",
       "    <tr>\n",
       "      <th>3</th>\n",
       "      <td>TXN_7034554</td>\n",
       "      <td>Salad</td>\n",
       "      <td>2.0</td>\n",
       "      <td>5.0</td>\n",
       "      <td>10.0</td>\n",
       "      <td>NaN</td>\n",
       "      <td>NaN</td>\n",
       "      <td>2023-04-27</td>\n",
       "      <td>April</td>\n",
       "      <td>Thursday</td>\n",
       "    </tr>\n",
       "    <tr>\n",
       "      <th>4</th>\n",
       "      <td>TXN_3160411</td>\n",
       "      <td>Coffee</td>\n",
       "      <td>2.0</td>\n",
       "      <td>2.0</td>\n",
       "      <td>4.0</td>\n",
       "      <td>Digital Wallet</td>\n",
       "      <td>In-store</td>\n",
       "      <td>2023-06-11</td>\n",
       "      <td>June</td>\n",
       "      <td>Sunday</td>\n",
       "    </tr>\n",
       "  </tbody>\n",
       "</table>\n",
       "</div>"
      ],
      "text/plain": [
       "  Transaction ID    Item  Quantity  Price Per Unit  Total Spent  \\\n",
       "0    TXN_1961373  Coffee       2.0             2.0          4.0   \n",
       "1    TXN_4977031    Cake       4.0             3.0         12.0   \n",
       "2    TXN_4271903  Cookie       4.0             1.0          4.0   \n",
       "3    TXN_7034554   Salad       2.0             5.0         10.0   \n",
       "4    TXN_3160411  Coffee       2.0             2.0          4.0   \n",
       "\n",
       "   Payment Method  Location Transaction Date      Month Day Of The Week  \n",
       "0     Credit Card  Takeaway       2023-09-08  September          Friday  \n",
       "1            Cash  In-store       2023-05-16        May         Tuesday  \n",
       "2     Credit Card  In-store       2023-07-19       July       Wednesday  \n",
       "3             NaN       NaN       2023-04-27      April        Thursday  \n",
       "4  Digital Wallet  In-store       2023-06-11       June          Sunday  "
      ]
     },
     "execution_count": 1044,
     "metadata": {},
     "output_type": "execute_result"
    }
   ],
   "source": [
    "sales_df.head()"
   ]
  },
  {
   "cell_type": "code",
   "execution_count": 1046,
   "id": "f585ce89",
   "metadata": {},
   "outputs": [],
   "source": [
    "sales_df.to_csv(\"cafe_sales_cleaned.csv\",index=False)"
   ]
  }
 ],
 "metadata": {
  "kernelspec": {
   "display_name": "data-analysis-env",
   "language": "python",
   "name": "python3"
  },
  "language_info": {
   "codemirror_mode": {
    "name": "ipython",
    "version": 3
   },
   "file_extension": ".py",
   "mimetype": "text/x-python",
   "name": "python",
   "nbconvert_exporter": "python",
   "pygments_lexer": "ipython3",
   "version": "3.9.22"
  }
 },
 "nbformat": 4,
 "nbformat_minor": 5
}
